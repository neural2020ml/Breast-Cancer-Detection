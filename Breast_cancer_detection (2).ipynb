{
  "nbformat": 4,
  "nbformat_minor": 0,
  "metadata": {
    "colab": {
      "name": "Breast_cancer_detection.ipynb",
      "provenance": [],
      "collapsed_sections": []
    },
    "kernelspec": {
      "name": "python3",
      "display_name": "Python 3"
    }
  },
  "cells": [
    {
      "cell_type": "code",
      "metadata": {
        "colab": {
          "base_uri": "https://localhost:8080/"
        },
        "id": "hrsAuvnY1p12",
        "outputId": "e8581836-ec85-4ffa-c2b5-fb5491b96795"
      },
      "source": [
        "from google.colab import drive\r\n",
        "drive.mount('/gdrive')\r\n",
        "%cd /gdrive"
      ],
      "execution_count": null,
      "outputs": [
        {
          "output_type": "stream",
          "text": [
            "Mounted at /gdrive\n",
            "/gdrive\n"
          ],
          "name": "stdout"
        }
      ]
    },
    {
      "cell_type": "code",
      "metadata": {
        "colab": {
          "base_uri": "https://localhost:8080/"
        },
        "id": "ffdsSTY61tLg",
        "outputId": "b6a83b77-cac2-4b2d-a180-a770a52604fb"
      },
      "source": [
        "cd /gdrive/MyDrive/Breast_Cancer_Detection/"
      ],
      "execution_count": null,
      "outputs": [
        {
          "output_type": "stream",
          "text": [
            "/gdrive/MyDrive/Breast_Cancer_Detection\n"
          ],
          "name": "stdout"
        }
      ]
    },
    {
      "cell_type": "code",
      "metadata": {
        "colab": {
          "base_uri": "https://localhost:8080/",
          "height": 232
        },
        "id": "mJdYK7Ck1Pnm",
        "outputId": "0ca0a80f-4970-4b59-ce5e-18d41e7c70ed"
      },
      "source": [
        "import pandas as pd\r\n",
        "import numpy as np\r\n",
        "import matplotlib.pyplot as plt\r\n",
        "import seaborn as sns\r\n",
        "data=pd.read_csv('breast_cancer-detection_data.csv')\r\n",
        "del data['Unnamed: 32']\r\n",
        "data.head()"
      ],
      "execution_count": null,
      "outputs": [
        {
          "output_type": "execute_result",
          "data": {
            "text/html": [
              "<div>\n",
              "<style scoped>\n",
              "    .dataframe tbody tr th:only-of-type {\n",
              "        vertical-align: middle;\n",
              "    }\n",
              "\n",
              "    .dataframe tbody tr th {\n",
              "        vertical-align: top;\n",
              "    }\n",
              "\n",
              "    .dataframe thead th {\n",
              "        text-align: right;\n",
              "    }\n",
              "</style>\n",
              "<table border=\"1\" class=\"dataframe\">\n",
              "  <thead>\n",
              "    <tr style=\"text-align: right;\">\n",
              "      <th></th>\n",
              "      <th>id</th>\n",
              "      <th>diagnosis</th>\n",
              "      <th>radius_mean</th>\n",
              "      <th>texture_mean</th>\n",
              "      <th>perimeter_mean</th>\n",
              "      <th>area_mean</th>\n",
              "      <th>smoothness_mean</th>\n",
              "      <th>compactness_mean</th>\n",
              "      <th>concavity_mean</th>\n",
              "      <th>concave points_mean</th>\n",
              "      <th>symmetry_mean</th>\n",
              "      <th>fractal_dimension_mean</th>\n",
              "      <th>radius_se</th>\n",
              "      <th>texture_se</th>\n",
              "      <th>perimeter_se</th>\n",
              "      <th>area_se</th>\n",
              "      <th>smoothness_se</th>\n",
              "      <th>compactness_se</th>\n",
              "      <th>concavity_se</th>\n",
              "      <th>concave points_se</th>\n",
              "      <th>symmetry_se</th>\n",
              "      <th>fractal_dimension_se</th>\n",
              "      <th>radius_worst</th>\n",
              "      <th>texture_worst</th>\n",
              "      <th>perimeter_worst</th>\n",
              "      <th>area_worst</th>\n",
              "      <th>smoothness_worst</th>\n",
              "      <th>compactness_worst</th>\n",
              "      <th>concavity_worst</th>\n",
              "      <th>concave points_worst</th>\n",
              "      <th>symmetry_worst</th>\n",
              "      <th>fractal_dimension_worst</th>\n",
              "    </tr>\n",
              "  </thead>\n",
              "  <tbody>\n",
              "    <tr>\n",
              "      <th>0</th>\n",
              "      <td>842302</td>\n",
              "      <td>M</td>\n",
              "      <td>17.99</td>\n",
              "      <td>10.38</td>\n",
              "      <td>122.80</td>\n",
              "      <td>1001.0</td>\n",
              "      <td>0.11840</td>\n",
              "      <td>0.27760</td>\n",
              "      <td>0.3001</td>\n",
              "      <td>0.14710</td>\n",
              "      <td>0.2419</td>\n",
              "      <td>0.07871</td>\n",
              "      <td>1.0950</td>\n",
              "      <td>0.9053</td>\n",
              "      <td>8.589</td>\n",
              "      <td>153.40</td>\n",
              "      <td>0.006399</td>\n",
              "      <td>0.04904</td>\n",
              "      <td>0.05373</td>\n",
              "      <td>0.01587</td>\n",
              "      <td>0.03003</td>\n",
              "      <td>0.006193</td>\n",
              "      <td>25.38</td>\n",
              "      <td>17.33</td>\n",
              "      <td>184.60</td>\n",
              "      <td>2019.0</td>\n",
              "      <td>0.1622</td>\n",
              "      <td>0.6656</td>\n",
              "      <td>0.7119</td>\n",
              "      <td>0.2654</td>\n",
              "      <td>0.4601</td>\n",
              "      <td>0.11890</td>\n",
              "    </tr>\n",
              "    <tr>\n",
              "      <th>1</th>\n",
              "      <td>842517</td>\n",
              "      <td>M</td>\n",
              "      <td>20.57</td>\n",
              "      <td>17.77</td>\n",
              "      <td>132.90</td>\n",
              "      <td>1326.0</td>\n",
              "      <td>0.08474</td>\n",
              "      <td>0.07864</td>\n",
              "      <td>0.0869</td>\n",
              "      <td>0.07017</td>\n",
              "      <td>0.1812</td>\n",
              "      <td>0.05667</td>\n",
              "      <td>0.5435</td>\n",
              "      <td>0.7339</td>\n",
              "      <td>3.398</td>\n",
              "      <td>74.08</td>\n",
              "      <td>0.005225</td>\n",
              "      <td>0.01308</td>\n",
              "      <td>0.01860</td>\n",
              "      <td>0.01340</td>\n",
              "      <td>0.01389</td>\n",
              "      <td>0.003532</td>\n",
              "      <td>24.99</td>\n",
              "      <td>23.41</td>\n",
              "      <td>158.80</td>\n",
              "      <td>1956.0</td>\n",
              "      <td>0.1238</td>\n",
              "      <td>0.1866</td>\n",
              "      <td>0.2416</td>\n",
              "      <td>0.1860</td>\n",
              "      <td>0.2750</td>\n",
              "      <td>0.08902</td>\n",
              "    </tr>\n",
              "    <tr>\n",
              "      <th>2</th>\n",
              "      <td>84300903</td>\n",
              "      <td>M</td>\n",
              "      <td>19.69</td>\n",
              "      <td>21.25</td>\n",
              "      <td>130.00</td>\n",
              "      <td>1203.0</td>\n",
              "      <td>0.10960</td>\n",
              "      <td>0.15990</td>\n",
              "      <td>0.1974</td>\n",
              "      <td>0.12790</td>\n",
              "      <td>0.2069</td>\n",
              "      <td>0.05999</td>\n",
              "      <td>0.7456</td>\n",
              "      <td>0.7869</td>\n",
              "      <td>4.585</td>\n",
              "      <td>94.03</td>\n",
              "      <td>0.006150</td>\n",
              "      <td>0.04006</td>\n",
              "      <td>0.03832</td>\n",
              "      <td>0.02058</td>\n",
              "      <td>0.02250</td>\n",
              "      <td>0.004571</td>\n",
              "      <td>23.57</td>\n",
              "      <td>25.53</td>\n",
              "      <td>152.50</td>\n",
              "      <td>1709.0</td>\n",
              "      <td>0.1444</td>\n",
              "      <td>0.4245</td>\n",
              "      <td>0.4504</td>\n",
              "      <td>0.2430</td>\n",
              "      <td>0.3613</td>\n",
              "      <td>0.08758</td>\n",
              "    </tr>\n",
              "    <tr>\n",
              "      <th>3</th>\n",
              "      <td>84348301</td>\n",
              "      <td>M</td>\n",
              "      <td>11.42</td>\n",
              "      <td>20.38</td>\n",
              "      <td>77.58</td>\n",
              "      <td>386.1</td>\n",
              "      <td>0.14250</td>\n",
              "      <td>0.28390</td>\n",
              "      <td>0.2414</td>\n",
              "      <td>0.10520</td>\n",
              "      <td>0.2597</td>\n",
              "      <td>0.09744</td>\n",
              "      <td>0.4956</td>\n",
              "      <td>1.1560</td>\n",
              "      <td>3.445</td>\n",
              "      <td>27.23</td>\n",
              "      <td>0.009110</td>\n",
              "      <td>0.07458</td>\n",
              "      <td>0.05661</td>\n",
              "      <td>0.01867</td>\n",
              "      <td>0.05963</td>\n",
              "      <td>0.009208</td>\n",
              "      <td>14.91</td>\n",
              "      <td>26.50</td>\n",
              "      <td>98.87</td>\n",
              "      <td>567.7</td>\n",
              "      <td>0.2098</td>\n",
              "      <td>0.8663</td>\n",
              "      <td>0.6869</td>\n",
              "      <td>0.2575</td>\n",
              "      <td>0.6638</td>\n",
              "      <td>0.17300</td>\n",
              "    </tr>\n",
              "    <tr>\n",
              "      <th>4</th>\n",
              "      <td>84358402</td>\n",
              "      <td>M</td>\n",
              "      <td>20.29</td>\n",
              "      <td>14.34</td>\n",
              "      <td>135.10</td>\n",
              "      <td>1297.0</td>\n",
              "      <td>0.10030</td>\n",
              "      <td>0.13280</td>\n",
              "      <td>0.1980</td>\n",
              "      <td>0.10430</td>\n",
              "      <td>0.1809</td>\n",
              "      <td>0.05883</td>\n",
              "      <td>0.7572</td>\n",
              "      <td>0.7813</td>\n",
              "      <td>5.438</td>\n",
              "      <td>94.44</td>\n",
              "      <td>0.011490</td>\n",
              "      <td>0.02461</td>\n",
              "      <td>0.05688</td>\n",
              "      <td>0.01885</td>\n",
              "      <td>0.01756</td>\n",
              "      <td>0.005115</td>\n",
              "      <td>22.54</td>\n",
              "      <td>16.67</td>\n",
              "      <td>152.20</td>\n",
              "      <td>1575.0</td>\n",
              "      <td>0.1374</td>\n",
              "      <td>0.2050</td>\n",
              "      <td>0.4000</td>\n",
              "      <td>0.1625</td>\n",
              "      <td>0.2364</td>\n",
              "      <td>0.07678</td>\n",
              "    </tr>\n",
              "  </tbody>\n",
              "</table>\n",
              "</div>"
            ],
            "text/plain": [
              "         id diagnosis  ...  symmetry_worst  fractal_dimension_worst\n",
              "0    842302         M  ...          0.4601                  0.11890\n",
              "1    842517         M  ...          0.2750                  0.08902\n",
              "2  84300903         M  ...          0.3613                  0.08758\n",
              "3  84348301         M  ...          0.6638                  0.17300\n",
              "4  84358402         M  ...          0.2364                  0.07678\n",
              "\n",
              "[5 rows x 32 columns]"
            ]
          },
          "metadata": {
            "tags": []
          },
          "execution_count": 7
        }
      ]
    },
    {
      "cell_type": "code",
      "metadata": {
        "id": "P5GX-WIH2QUr"
      },
      "source": [
        "X = data.iloc[:, 2:].values\r\n",
        "y = data.iloc[:, 1].values\r\n",
        "\r\n",
        "# Encoding categorical data\r\n",
        "from sklearn.preprocessing import LabelEncoder\r\n",
        "labelencoder_X_1 = LabelEncoder()\r\n",
        "y = labelencoder_X_1.fit_transform(y)\r\n",
        "\r\n",
        "# Splitting the dataset into the Training set and Test set\r\n",
        "from sklearn.model_selection import train_test_split\r\n",
        "X_train, X_test, y_train, y_test = train_test_split(X, y, test_size = 0.2, random_state = 0)\r\n",
        "\r\n",
        "#Feature Scaling\r\n",
        "from sklearn.preprocessing import StandardScaler\r\n",
        "sc = StandardScaler()\r\n",
        "X_train = sc.fit_transform(X_train)\r\n",
        "X_test = sc.transform(X_test)"
      ],
      "execution_count": null,
      "outputs": []
    },
    {
      "cell_type": "code",
      "metadata": {
        "id": "wQVZRrJb2V5h"
      },
      "source": [
        "import keras\r\n",
        "from keras.models import Sequential\r\n",
        "from keras.layers import Dense, Dropout"
      ],
      "execution_count": null,
      "outputs": []
    },
    {
      "cell_type": "code",
      "metadata": {
        "colab": {
          "base_uri": "https://localhost:8080/"
        },
        "id": "Y4pNYfuI4TFL",
        "outputId": "148fe43e-d809-46d6-e154-80fe583e116e"
      },
      "source": [
        "X_train.shape"
      ],
      "execution_count": null,
      "outputs": [
        {
          "output_type": "execute_result",
          "data": {
            "text/plain": [
              "(455, 30)"
            ]
          },
          "metadata": {
            "tags": []
          },
          "execution_count": 35
        }
      ]
    },
    {
      "cell_type": "code",
      "metadata": {
        "colab": {
          "base_uri": "https://localhost:8080/"
        },
        "id": "Gq071BcD4VAA",
        "outputId": "29ddac02-7f9e-4725-b5b5-9c56ce16a7ce"
      },
      "source": [
        "y_train.shape"
      ],
      "execution_count": null,
      "outputs": [
        {
          "output_type": "execute_result",
          "data": {
            "text/plain": [
              "(455,)"
            ]
          },
          "metadata": {
            "tags": []
          },
          "execution_count": 36
        }
      ]
    },
    {
      "cell_type": "code",
      "metadata": {
        "colab": {
          "base_uri": "https://localhost:8080/"
        },
        "id": "KWRzLpbl2YS6",
        "outputId": "8ddef26c-f80f-4bfc-f613-a00b5ccc3f74"
      },
      "source": [
        "classifier = Sequential()\r\n",
        "classifier.add(Dense(16, activation='relu', input_dim=30))\r\n",
        "# Adding dropout to prevent overfitting\r\n",
        "classifier.add(Dropout(0.1))\r\n",
        "classifier.add(Dense(1, activation='sigmoid'))\r\n",
        "\r\n",
        "classifier.compile(optimizer='adam', loss='binary_crossentropy', metrics=['accuracy'])\r\n",
        "classifier.summary()\r\n",
        "classifier.fit(X_train, y_train, batch_size=100, epochs=150)"
      ],
      "execution_count": null,
      "outputs": [
        {
          "output_type": "stream",
          "text": [
            "Model: \"sequential_3\"\n",
            "_________________________________________________________________\n",
            "Layer (type)                 Output Shape              Param #   \n",
            "=================================================================\n",
            "dense_6 (Dense)              (None, 16)                496       \n",
            "_________________________________________________________________\n",
            "dropout_3 (Dropout)          (None, 16)                0         \n",
            "_________________________________________________________________\n",
            "dense_7 (Dense)              (None, 1)                 17        \n",
            "=================================================================\n",
            "Total params: 513\n",
            "Trainable params: 513\n",
            "Non-trainable params: 0\n",
            "_________________________________________________________________\n",
            "Epoch 1/150\n",
            "5/5 [==============================] - 0s 3ms/step - loss: 1.3017 - accuracy: 0.3188\n",
            "Epoch 2/150\n",
            "5/5 [==============================] - 0s 2ms/step - loss: 1.2099 - accuracy: 0.3207\n",
            "Epoch 3/150\n",
            "5/5 [==============================] - 0s 2ms/step - loss: 1.0985 - accuracy: 0.3573\n",
            "Epoch 4/150\n",
            "5/5 [==============================] - 0s 2ms/step - loss: 0.9882 - accuracy: 0.3601\n",
            "Epoch 5/150\n",
            "5/5 [==============================] - 0s 2ms/step - loss: 0.9593 - accuracy: 0.3577\n",
            "Epoch 6/150\n",
            "5/5 [==============================] - 0s 2ms/step - loss: 0.8624 - accuracy: 0.3988\n",
            "Epoch 7/150\n",
            "5/5 [==============================] - 0s 2ms/step - loss: 0.7804 - accuracy: 0.4534\n",
            "Epoch 8/150\n",
            "5/5 [==============================] - 0s 2ms/step - loss: 0.7279 - accuracy: 0.5274\n",
            "Epoch 9/150\n",
            "5/5 [==============================] - 0s 2ms/step - loss: 0.6714 - accuracy: 0.5925\n",
            "Epoch 10/150\n",
            "5/5 [==============================] - 0s 2ms/step - loss: 0.6289 - accuracy: 0.6156\n",
            "Epoch 11/150\n",
            "5/5 [==============================] - 0s 2ms/step - loss: 0.5748 - accuracy: 0.6916\n",
            "Epoch 12/150\n",
            "5/5 [==============================] - 0s 3ms/step - loss: 0.5435 - accuracy: 0.7273\n",
            "Epoch 13/150\n",
            "5/5 [==============================] - 0s 3ms/step - loss: 0.4967 - accuracy: 0.7861\n",
            "Epoch 14/150\n",
            "5/5 [==============================] - 0s 3ms/step - loss: 0.4575 - accuracy: 0.8149\n",
            "Epoch 15/150\n",
            "5/5 [==============================] - 0s 2ms/step - loss: 0.4241 - accuracy: 0.8585\n",
            "Epoch 16/150\n",
            "5/5 [==============================] - 0s 2ms/step - loss: 0.3886 - accuracy: 0.9074\n",
            "Epoch 17/150\n",
            "5/5 [==============================] - 0s 3ms/step - loss: 0.3605 - accuracy: 0.9040\n",
            "Epoch 18/150\n",
            "5/5 [==============================] - 0s 2ms/step - loss: 0.3402 - accuracy: 0.9017\n",
            "Epoch 19/150\n",
            "5/5 [==============================] - 0s 3ms/step - loss: 0.3355 - accuracy: 0.8943\n",
            "Epoch 20/150\n",
            "5/5 [==============================] - 0s 2ms/step - loss: 0.2821 - accuracy: 0.9452\n",
            "Epoch 21/150\n",
            "5/5 [==============================] - 0s 3ms/step - loss: 0.2741 - accuracy: 0.9380\n",
            "Epoch 22/150\n",
            "5/5 [==============================] - 0s 2ms/step - loss: 0.2606 - accuracy: 0.9349\n",
            "Epoch 23/150\n",
            "5/5 [==============================] - 0s 2ms/step - loss: 0.2353 - accuracy: 0.9547\n",
            "Epoch 24/150\n",
            "5/5 [==============================] - 0s 3ms/step - loss: 0.2456 - accuracy: 0.9412\n",
            "Epoch 25/150\n",
            "5/5 [==============================] - 0s 3ms/step - loss: 0.2188 - accuracy: 0.9533\n",
            "Epoch 26/150\n",
            "5/5 [==============================] - 0s 3ms/step - loss: 0.2012 - accuracy: 0.9668\n",
            "Epoch 27/150\n",
            "5/5 [==============================] - 0s 3ms/step - loss: 0.2015 - accuracy: 0.9643\n",
            "Epoch 28/150\n",
            "5/5 [==============================] - 0s 2ms/step - loss: 0.1949 - accuracy: 0.9544\n",
            "Epoch 29/150\n",
            "5/5 [==============================] - 0s 3ms/step - loss: 0.1947 - accuracy: 0.9661\n",
            "Epoch 30/150\n",
            "5/5 [==============================] - 0s 2ms/step - loss: 0.1702 - accuracy: 0.9667\n",
            "Epoch 31/150\n",
            "5/5 [==============================] - 0s 2ms/step - loss: 0.1711 - accuracy: 0.9775\n",
            "Epoch 32/150\n",
            "5/5 [==============================] - 0s 3ms/step - loss: 0.1640 - accuracy: 0.9685\n",
            "Epoch 33/150\n",
            "5/5 [==============================] - 0s 3ms/step - loss: 0.1552 - accuracy: 0.9733\n",
            "Epoch 34/150\n",
            "5/5 [==============================] - 0s 3ms/step - loss: 0.1529 - accuracy: 0.9708\n",
            "Epoch 35/150\n",
            "5/5 [==============================] - 0s 3ms/step - loss: 0.1585 - accuracy: 0.9648\n",
            "Epoch 36/150\n",
            "5/5 [==============================] - 0s 2ms/step - loss: 0.1475 - accuracy: 0.9665\n",
            "Epoch 37/150\n",
            "5/5 [==============================] - 0s 2ms/step - loss: 0.1562 - accuracy: 0.9578\n",
            "Epoch 38/150\n",
            "5/5 [==============================] - 0s 2ms/step - loss: 0.1426 - accuracy: 0.9678\n",
            "Epoch 39/150\n",
            "5/5 [==============================] - 0s 3ms/step - loss: 0.1252 - accuracy: 0.9761\n",
            "Epoch 40/150\n",
            "5/5 [==============================] - 0s 3ms/step - loss: 0.1304 - accuracy: 0.9716\n",
            "Epoch 41/150\n",
            "5/5 [==============================] - 0s 4ms/step - loss: 0.1337 - accuracy: 0.9692\n",
            "Epoch 42/150\n",
            "5/5 [==============================] - 0s 2ms/step - loss: 0.1363 - accuracy: 0.9705\n",
            "Epoch 43/150\n",
            "5/5 [==============================] - 0s 3ms/step - loss: 0.1373 - accuracy: 0.9614\n",
            "Epoch 44/150\n",
            "5/5 [==============================] - 0s 3ms/step - loss: 0.1283 - accuracy: 0.9757\n",
            "Epoch 45/150\n",
            "5/5 [==============================] - 0s 3ms/step - loss: 0.1025 - accuracy: 0.9852\n",
            "Epoch 46/150\n",
            "5/5 [==============================] - 0s 2ms/step - loss: 0.1235 - accuracy: 0.9727\n",
            "Epoch 47/150\n",
            "5/5 [==============================] - 0s 3ms/step - loss: 0.1096 - accuracy: 0.9749\n",
            "Epoch 48/150\n",
            "5/5 [==============================] - 0s 3ms/step - loss: 0.1218 - accuracy: 0.9741\n",
            "Epoch 49/150\n",
            "5/5 [==============================] - 0s 3ms/step - loss: 0.1264 - accuracy: 0.9737\n",
            "Epoch 50/150\n",
            "5/5 [==============================] - 0s 3ms/step - loss: 0.1012 - accuracy: 0.9777\n",
            "Epoch 51/150\n",
            "5/5 [==============================] - 0s 3ms/step - loss: 0.1143 - accuracy: 0.9703\n",
            "Epoch 52/150\n",
            "5/5 [==============================] - 0s 3ms/step - loss: 0.1023 - accuracy: 0.9726\n",
            "Epoch 53/150\n",
            "5/5 [==============================] - 0s 2ms/step - loss: 0.1063 - accuracy: 0.9735\n",
            "Epoch 54/150\n",
            "5/5 [==============================] - 0s 3ms/step - loss: 0.1103 - accuracy: 0.9711\n",
            "Epoch 55/150\n",
            "5/5 [==============================] - 0s 3ms/step - loss: 0.0882 - accuracy: 0.9894\n",
            "Epoch 56/150\n",
            "5/5 [==============================] - 0s 3ms/step - loss: 0.0968 - accuracy: 0.9822\n",
            "Epoch 57/150\n",
            "5/5 [==============================] - 0s 3ms/step - loss: 0.0904 - accuracy: 0.9872\n",
            "Epoch 58/150\n",
            "5/5 [==============================] - 0s 3ms/step - loss: 0.0960 - accuracy: 0.9824\n",
            "Epoch 59/150\n",
            "5/5 [==============================] - 0s 3ms/step - loss: 0.0923 - accuracy: 0.9764\n",
            "Epoch 60/150\n",
            "5/5 [==============================] - 0s 3ms/step - loss: 0.0843 - accuracy: 0.9865\n",
            "Epoch 61/150\n",
            "5/5 [==============================] - 0s 2ms/step - loss: 0.0911 - accuracy: 0.9831\n",
            "Epoch 62/150\n",
            "5/5 [==============================] - 0s 3ms/step - loss: 0.1053 - accuracy: 0.9794\n",
            "Epoch 63/150\n",
            "5/5 [==============================] - 0s 3ms/step - loss: 0.0936 - accuracy: 0.9763\n",
            "Epoch 64/150\n",
            "5/5 [==============================] - 0s 2ms/step - loss: 0.0927 - accuracy: 0.9830\n",
            "Epoch 65/150\n",
            "5/5 [==============================] - 0s 3ms/step - loss: 0.0814 - accuracy: 0.9822\n",
            "Epoch 66/150\n",
            "5/5 [==============================] - 0s 3ms/step - loss: 0.0989 - accuracy: 0.9768\n",
            "Epoch 67/150\n",
            "5/5 [==============================] - 0s 3ms/step - loss: 0.0879 - accuracy: 0.9822\n",
            "Epoch 68/150\n",
            "5/5 [==============================] - 0s 3ms/step - loss: 0.0904 - accuracy: 0.9855\n",
            "Epoch 69/150\n",
            "5/5 [==============================] - 0s 2ms/step - loss: 0.0721 - accuracy: 0.9874\n",
            "Epoch 70/150\n",
            "5/5 [==============================] - 0s 2ms/step - loss: 0.0930 - accuracy: 0.9727\n",
            "Epoch 71/150\n",
            "5/5 [==============================] - 0s 3ms/step - loss: 0.0946 - accuracy: 0.9763\n",
            "Epoch 72/150\n",
            "5/5 [==============================] - 0s 3ms/step - loss: 0.0827 - accuracy: 0.9788\n",
            "Epoch 73/150\n",
            "5/5 [==============================] - 0s 2ms/step - loss: 0.0726 - accuracy: 0.9916\n",
            "Epoch 74/150\n",
            "5/5 [==============================] - 0s 3ms/step - loss: 0.0794 - accuracy: 0.9862\n",
            "Epoch 75/150\n",
            "5/5 [==============================] - 0s 3ms/step - loss: 0.0815 - accuracy: 0.9775\n",
            "Epoch 76/150\n",
            "5/5 [==============================] - 0s 2ms/step - loss: 0.0673 - accuracy: 0.9899\n",
            "Epoch 77/150\n",
            "5/5 [==============================] - 0s 3ms/step - loss: 0.0896 - accuracy: 0.9753\n",
            "Epoch 78/150\n",
            "5/5 [==============================] - 0s 3ms/step - loss: 0.0783 - accuracy: 0.9798\n",
            "Epoch 79/150\n",
            "5/5 [==============================] - 0s 2ms/step - loss: 0.0762 - accuracy: 0.9812\n",
            "Epoch 80/150\n",
            "5/5 [==============================] - 0s 2ms/step - loss: 0.0712 - accuracy: 0.9867\n",
            "Epoch 81/150\n",
            "5/5 [==============================] - 0s 3ms/step - loss: 0.0727 - accuracy: 0.9841\n",
            "Epoch 82/150\n",
            "5/5 [==============================] - 0s 3ms/step - loss: 0.0842 - accuracy: 0.9822\n",
            "Epoch 83/150\n",
            "5/5 [==============================] - 0s 3ms/step - loss: 0.0727 - accuracy: 0.9869\n",
            "Epoch 84/150\n",
            "5/5 [==============================] - 0s 3ms/step - loss: 0.0790 - accuracy: 0.9797\n",
            "Epoch 85/150\n",
            "5/5 [==============================] - 0s 2ms/step - loss: 0.0717 - accuracy: 0.9798\n",
            "Epoch 86/150\n",
            "5/5 [==============================] - 0s 2ms/step - loss: 0.0737 - accuracy: 0.9817\n",
            "Epoch 87/150\n",
            "5/5 [==============================] - 0s 2ms/step - loss: 0.0664 - accuracy: 0.9884\n",
            "Epoch 88/150\n",
            "5/5 [==============================] - 0s 2ms/step - loss: 0.0909 - accuracy: 0.9769\n",
            "Epoch 89/150\n",
            "5/5 [==============================] - 0s 2ms/step - loss: 0.0764 - accuracy: 0.9791\n",
            "Epoch 90/150\n",
            "5/5 [==============================] - 0s 2ms/step - loss: 0.0649 - accuracy: 0.9875\n",
            "Epoch 91/150\n",
            "5/5 [==============================] - 0s 2ms/step - loss: 0.0742 - accuracy: 0.9761\n",
            "Epoch 92/150\n",
            "5/5 [==============================] - 0s 2ms/step - loss: 0.0830 - accuracy: 0.9825\n",
            "Epoch 93/150\n",
            "5/5 [==============================] - 0s 2ms/step - loss: 0.0768 - accuracy: 0.9822\n",
            "Epoch 94/150\n",
            "5/5 [==============================] - 0s 2ms/step - loss: 0.0706 - accuracy: 0.9825\n",
            "Epoch 95/150\n",
            "5/5 [==============================] - 0s 3ms/step - loss: 0.0830 - accuracy: 0.9811\n",
            "Epoch 96/150\n",
            "5/5 [==============================] - 0s 3ms/step - loss: 0.0703 - accuracy: 0.9846\n",
            "Epoch 97/150\n",
            "5/5 [==============================] - 0s 3ms/step - loss: 0.0837 - accuracy: 0.9773\n",
            "Epoch 98/150\n",
            "5/5 [==============================] - 0s 3ms/step - loss: 0.0943 - accuracy: 0.9790\n",
            "Epoch 99/150\n",
            "5/5 [==============================] - 0s 3ms/step - loss: 0.0592 - accuracy: 0.9933\n",
            "Epoch 100/150\n",
            "5/5 [==============================] - 0s 3ms/step - loss: 0.0585 - accuracy: 0.9862\n",
            "Epoch 101/150\n",
            "5/5 [==============================] - 0s 3ms/step - loss: 0.0684 - accuracy: 0.9791\n",
            "Epoch 102/150\n",
            "5/5 [==============================] - 0s 4ms/step - loss: 0.0656 - accuracy: 0.9799\n",
            "Epoch 103/150\n",
            "5/5 [==============================] - 0s 2ms/step - loss: 0.0681 - accuracy: 0.9838\n",
            "Epoch 104/150\n",
            "5/5 [==============================] - 0s 3ms/step - loss: 0.0754 - accuracy: 0.9818\n",
            "Epoch 105/150\n",
            "5/5 [==============================] - 0s 3ms/step - loss: 0.0715 - accuracy: 0.9853\n",
            "Epoch 106/150\n",
            "5/5 [==============================] - 0s 3ms/step - loss: 0.0616 - accuracy: 0.9836\n",
            "Epoch 107/150\n",
            "5/5 [==============================] - 0s 3ms/step - loss: 0.0715 - accuracy: 0.9796\n",
            "Epoch 108/150\n",
            "5/5 [==============================] - 0s 3ms/step - loss: 0.0669 - accuracy: 0.9849\n",
            "Epoch 109/150\n",
            "5/5 [==============================] - 0s 3ms/step - loss: 0.0670 - accuracy: 0.9855\n",
            "Epoch 110/150\n",
            "5/5 [==============================] - 0s 3ms/step - loss: 0.0611 - accuracy: 0.9875\n",
            "Epoch 111/150\n",
            "5/5 [==============================] - 0s 2ms/step - loss: 0.0615 - accuracy: 0.9863\n",
            "Epoch 112/150\n",
            "5/5 [==============================] - 0s 3ms/step - loss: 0.0664 - accuracy: 0.9860\n",
            "Epoch 113/150\n",
            "5/5 [==============================] - 0s 2ms/step - loss: 0.0710 - accuracy: 0.9857\n",
            "Epoch 114/150\n",
            "5/5 [==============================] - 0s 3ms/step - loss: 0.0782 - accuracy: 0.9764\n",
            "Epoch 115/150\n",
            "5/5 [==============================] - 0s 5ms/step - loss: 0.0603 - accuracy: 0.9861\n",
            "Epoch 116/150\n",
            "5/5 [==============================] - 0s 3ms/step - loss: 0.0634 - accuracy: 0.9845\n",
            "Epoch 117/150\n",
            "5/5 [==============================] - 0s 3ms/step - loss: 0.0536 - accuracy: 0.9851\n",
            "Epoch 118/150\n",
            "5/5 [==============================] - 0s 3ms/step - loss: 0.0570 - accuracy: 0.9861\n",
            "Epoch 119/150\n",
            "5/5 [==============================] - 0s 3ms/step - loss: 0.0776 - accuracy: 0.9796\n",
            "Epoch 120/150\n",
            "5/5 [==============================] - 0s 3ms/step - loss: 0.0515 - accuracy: 0.9924\n",
            "Epoch 121/150\n",
            "5/5 [==============================] - 0s 3ms/step - loss: 0.0682 - accuracy: 0.9832\n",
            "Epoch 122/150\n",
            "5/5 [==============================] - 0s 3ms/step - loss: 0.0666 - accuracy: 0.9880\n",
            "Epoch 123/150\n",
            "5/5 [==============================] - 0s 2ms/step - loss: 0.0652 - accuracy: 0.9863\n",
            "Epoch 124/150\n",
            "5/5 [==============================] - 0s 3ms/step - loss: 0.0781 - accuracy: 0.9781\n",
            "Epoch 125/150\n",
            "5/5 [==============================] - 0s 2ms/step - loss: 0.0625 - accuracy: 0.9875\n",
            "Epoch 126/150\n",
            "5/5 [==============================] - 0s 3ms/step - loss: 0.0593 - accuracy: 0.9890\n",
            "Epoch 127/150\n",
            "5/5 [==============================] - 0s 3ms/step - loss: 0.0631 - accuracy: 0.9843\n",
            "Epoch 128/150\n",
            "5/5 [==============================] - 0s 2ms/step - loss: 0.0572 - accuracy: 0.9853\n",
            "Epoch 129/150\n",
            "5/5 [==============================] - 0s 3ms/step - loss: 0.0673 - accuracy: 0.9857\n",
            "Epoch 130/150\n",
            "5/5 [==============================] - 0s 3ms/step - loss: 0.0583 - accuracy: 0.9846\n",
            "Epoch 131/150\n",
            "5/5 [==============================] - 0s 3ms/step - loss: 0.0629 - accuracy: 0.9873\n",
            "Epoch 132/150\n",
            "5/5 [==============================] - 0s 3ms/step - loss: 0.0627 - accuracy: 0.9879\n",
            "Epoch 133/150\n",
            "5/5 [==============================] - 0s 2ms/step - loss: 0.0662 - accuracy: 0.9870\n",
            "Epoch 134/150\n",
            "5/5 [==============================] - 0s 3ms/step - loss: 0.0596 - accuracy: 0.9915\n",
            "Epoch 135/150\n",
            "5/5 [==============================] - 0s 2ms/step - loss: 0.0488 - accuracy: 0.9941\n",
            "Epoch 136/150\n",
            "5/5 [==============================] - 0s 2ms/step - loss: 0.0475 - accuracy: 0.9921\n",
            "Epoch 137/150\n",
            "5/5 [==============================] - 0s 3ms/step - loss: 0.0590 - accuracy: 0.9857\n",
            "Epoch 138/150\n",
            "5/5 [==============================] - 0s 4ms/step - loss: 0.0592 - accuracy: 0.9857\n",
            "Epoch 139/150\n",
            "5/5 [==============================] - 0s 4ms/step - loss: 0.0520 - accuracy: 0.9897\n",
            "Epoch 140/150\n",
            "5/5 [==============================] - 0s 2ms/step - loss: 0.0630 - accuracy: 0.9871\n",
            "Epoch 141/150\n",
            "5/5 [==============================] - 0s 4ms/step - loss: 0.0703 - accuracy: 0.9840\n",
            "Epoch 142/150\n",
            "5/5 [==============================] - 0s 2ms/step - loss: 0.0501 - accuracy: 0.9877\n",
            "Epoch 143/150\n",
            "5/5 [==============================] - 0s 4ms/step - loss: 0.0574 - accuracy: 0.9887\n",
            "Epoch 144/150\n",
            "5/5 [==============================] - 0s 2ms/step - loss: 0.0642 - accuracy: 0.9854\n",
            "Epoch 145/150\n",
            "5/5 [==============================] - 0s 5ms/step - loss: 0.0654 - accuracy: 0.9822\n",
            "Epoch 146/150\n",
            "5/5 [==============================] - 0s 5ms/step - loss: 0.0542 - accuracy: 0.9874\n",
            "Epoch 147/150\n",
            "5/5 [==============================] - 0s 2ms/step - loss: 0.0602 - accuracy: 0.9804\n",
            "Epoch 148/150\n",
            "5/5 [==============================] - 0s 2ms/step - loss: 0.0572 - accuracy: 0.9846\n",
            "Epoch 149/150\n",
            "5/5 [==============================] - 0s 3ms/step - loss: 0.0565 - accuracy: 0.9881\n",
            "Epoch 150/150\n",
            "5/5 [==============================] - 0s 2ms/step - loss: 0.0519 - accuracy: 0.9910\n"
          ],
          "name": "stdout"
        },
        {
          "output_type": "execute_result",
          "data": {
            "text/plain": [
              "<tensorflow.python.keras.callbacks.History at 0x7f404d3fe1d0>"
            ]
          },
          "metadata": {
            "tags": []
          },
          "execution_count": 44
        }
      ]
    },
    {
      "cell_type": "code",
      "metadata": {
        "colab": {
          "base_uri": "https://localhost:8080/"
        },
        "id": "PxTZD0TC4db-",
        "outputId": "fb056955-4b18-47fd-91a5-d6bc80f7a37a"
      },
      "source": [
        "X_test.shape"
      ],
      "execution_count": null,
      "outputs": [
        {
          "output_type": "execute_result",
          "data": {
            "text/plain": [
              "(114, 30)"
            ]
          },
          "metadata": {
            "tags": []
          },
          "execution_count": 45
        }
      ]
    },
    {
      "cell_type": "code",
      "metadata": {
        "colab": {
          "base_uri": "https://localhost:8080/"
        },
        "id": "UBB14KKa2_Tv",
        "outputId": "0610c26b-ea06-4535-b01a-0e2874c2506a"
      },
      "source": [
        "# Predicting the Test set results\r\n",
        "y_pred = classifier.predict(np.array(X_test)\r\n",
        "y_pred = (y_pred > 0.5)\r\n",
        "print(y_pred)"
      ],
      "execution_count": null,
      "outputs": [
        {
          "output_type": "stream",
          "text": [
            "[[ True]]\n"
          ],
          "name": "stdout"
        }
      ]
    },
    {
      "cell_type": "code",
      "metadata": {
        "id": "5EV46OUJ3B4k"
      },
      "source": [
        "from sklearn.metrics import confusion_matrix\r\n",
        "cm = confusion_matrix(y_test, y_pred)"
      ],
      "execution_count": null,
      "outputs": []
    },
    {
      "cell_type": "code",
      "metadata": {
        "colab": {
          "base_uri": "https://localhost:8080/"
        },
        "id": "eqkf2ra23EUq",
        "outputId": "485868ba-3f86-4890-a421-c27b773ef731"
      },
      "source": [
        "print(\"Our accuracy is {}%\".format(((cm[0][0] + cm[1][1])/57)*100))"
      ],
      "execution_count": null,
      "outputs": [
        {
          "output_type": "stream",
          "text": [
            "Our accuracy is 98.24561403508771%\n"
          ],
          "name": "stdout"
        }
      ]
    },
    {
      "cell_type": "code",
      "metadata": {
        "id": "lTFngKqF5yA5"
      },
      "source": [
        ""
      ],
      "execution_count": null,
      "outputs": []
    },
    {
      "cell_type": "code",
      "metadata": {
        "id": "0Kgi70cv6DSU"
      },
      "source": [
        ""
      ],
      "execution_count": null,
      "outputs": []
    }
  ]
}